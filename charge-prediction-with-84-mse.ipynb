{
 "cells": [
  {
   "cell_type": "markdown",
   "id": "dbac7ad2",
   "metadata": {
    "papermill": {
     "duration": 0.008116,
     "end_time": "2025-01-31T10:42:17.157821",
     "exception": false,
     "start_time": "2025-01-31T10:42:17.149705",
     "status": "completed"
    },
    "tags": []
   },
   "source": [
    "## 1. Import Library"
   ]
  },
  {
   "cell_type": "code",
   "execution_count": 1,
   "id": "c836b1b3",
   "metadata": {
    "_cell_guid": "b1076dfc-b9ad-4769-8c92-a6c4dae69d19",
    "_uuid": "8f2839f25d086af736a60e9eeb907d3b93b6e0e5",
    "execution": {
     "iopub.execute_input": "2025-01-31T10:42:17.171841Z",
     "iopub.status.busy": "2025-01-31T10:42:17.171478Z",
     "iopub.status.idle": "2025-01-31T10:42:18.227600Z",
     "shell.execute_reply": "2025-01-31T10:42:18.225957Z"
    },
    "papermill": {
     "duration": 1.065597,
     "end_time": "2025-01-31T10:42:18.229869",
     "exception": false,
     "start_time": "2025-01-31T10:42:17.164272",
     "status": "completed"
    },
    "tags": []
   },
   "outputs": [
    {
     "name": "stdout",
     "output_type": "stream",
     "text": [
      "/kaggle/input/healthcare-insurance/insurance.csv\n"
     ]
    }
   ],
   "source": [
    "# This Python 3 environment comes with many helpful analytics libraries installed\n",
    "# It is defined by the kaggle/python Docker image: https://github.com/kaggle/docker-python\n",
    "# For example, here's several helpful packages to load\n",
    "\n",
    "import numpy as np # linear algebra\n",
    "import pandas as pd # data processing, CSV file I/O (e.g. pd.read_csv)\n",
    "\n",
    "# Input data files are available in the read-only \"../input/\" directory\n",
    "# For example, running this (by clicking run or pressing Shift+Enter) will list all files under the input directory\n",
    "\n",
    "import os\n",
    "for dirname, _, filenames in os.walk('/kaggle/input'):\n",
    "    for filename in filenames:\n",
    "        print(os.path.join(dirname, filename))\n",
    "\n",
    "# You can write up to 20GB to the current directory (/kaggle/working/) that gets preserved as output when you create a version using \"Save & Run All\" \n",
    "# You can also write temporary files to /kaggle/temp/, but they won't be saved outside of the current session"
   ]
  },
  {
   "cell_type": "code",
   "execution_count": 2,
   "id": "b4ebbeea",
   "metadata": {
    "execution": {
     "iopub.execute_input": "2025-01-31T10:42:18.244578Z",
     "iopub.status.busy": "2025-01-31T10:42:18.243995Z",
     "iopub.status.idle": "2025-01-31T10:42:21.007689Z",
     "shell.execute_reply": "2025-01-31T10:42:21.006580Z"
    },
    "papermill": {
     "duration": 2.773101,
     "end_time": "2025-01-31T10:42:21.009826",
     "exception": false,
     "start_time": "2025-01-31T10:42:18.236725",
     "status": "completed"
    },
    "tags": []
   },
   "outputs": [],
   "source": [
    "import matplotlib.pyplot as plt\n",
    "import seaborn as sns\n",
    "from sklearn.model_selection import train_test_split\n",
    "from sklearn.preprocessing import StandardScaler, OneHotEncoder\n",
    "from sklearn.compose import ColumnTransformer\n",
    "from sklearn.pipeline import Pipeline\n",
    "from sklearn.linear_model import LinearRegression\n",
    "from sklearn.ensemble import RandomForestRegressor\n",
    "from sklearn.metrics import mean_squared_error, r2_score"
   ]
  },
  {
   "cell_type": "markdown",
   "id": "4fcd5cd0",
   "metadata": {
    "papermill": {
     "duration": 0.006283,
     "end_time": "2025-01-31T10:42:21.023165",
     "exception": false,
     "start_time": "2025-01-31T10:42:21.016882",
     "status": "completed"
    },
    "tags": []
   },
   "source": [
    "## 2. Load and Inspect Dataset"
   ]
  },
  {
   "cell_type": "code",
   "execution_count": 3,
   "id": "f4e0cfe5",
   "metadata": {
    "execution": {
     "iopub.execute_input": "2025-01-31T10:42:21.038097Z",
     "iopub.status.busy": "2025-01-31T10:42:21.037444Z",
     "iopub.status.idle": "2025-01-31T10:42:21.059018Z",
     "shell.execute_reply": "2025-01-31T10:42:21.057160Z"
    },
    "papermill": {
     "duration": 0.031433,
     "end_time": "2025-01-31T10:42:21.061498",
     "exception": false,
     "start_time": "2025-01-31T10:42:21.030065",
     "status": "completed"
    },
    "tags": []
   },
   "outputs": [],
   "source": [
    "df = pd.read_csv('/kaggle/input/healthcare-insurance/insurance.csv')"
   ]
  },
  {
   "cell_type": "code",
   "execution_count": 4,
   "id": "0f46f996",
   "metadata": {
    "execution": {
     "iopub.execute_input": "2025-01-31T10:42:21.075839Z",
     "iopub.status.busy": "2025-01-31T10:42:21.075477Z",
     "iopub.status.idle": "2025-01-31T10:42:21.100771Z",
     "shell.execute_reply": "2025-01-31T10:42:21.099623Z"
    },
    "papermill": {
     "duration": 0.03481,
     "end_time": "2025-01-31T10:42:21.102895",
     "exception": false,
     "start_time": "2025-01-31T10:42:21.068085",
     "status": "completed"
    },
    "tags": []
   },
   "outputs": [
    {
     "data": {
      "text/html": [
       "<div>\n",
       "<style scoped>\n",
       "    .dataframe tbody tr th:only-of-type {\n",
       "        vertical-align: middle;\n",
       "    }\n",
       "\n",
       "    .dataframe tbody tr th {\n",
       "        vertical-align: top;\n",
       "    }\n",
       "\n",
       "    .dataframe thead th {\n",
       "        text-align: right;\n",
       "    }\n",
       "</style>\n",
       "<table border=\"1\" class=\"dataframe\">\n",
       "  <thead>\n",
       "    <tr style=\"text-align: right;\">\n",
       "      <th></th>\n",
       "      <th>age</th>\n",
       "      <th>sex</th>\n",
       "      <th>bmi</th>\n",
       "      <th>children</th>\n",
       "      <th>smoker</th>\n",
       "      <th>region</th>\n",
       "      <th>charges</th>\n",
       "    </tr>\n",
       "  </thead>\n",
       "  <tbody>\n",
       "    <tr>\n",
       "      <th>0</th>\n",
       "      <td>19</td>\n",
       "      <td>female</td>\n",
       "      <td>27.900</td>\n",
       "      <td>0</td>\n",
       "      <td>yes</td>\n",
       "      <td>southwest</td>\n",
       "      <td>16884.92400</td>\n",
       "    </tr>\n",
       "    <tr>\n",
       "      <th>1</th>\n",
       "      <td>18</td>\n",
       "      <td>male</td>\n",
       "      <td>33.770</td>\n",
       "      <td>1</td>\n",
       "      <td>no</td>\n",
       "      <td>southeast</td>\n",
       "      <td>1725.55230</td>\n",
       "    </tr>\n",
       "    <tr>\n",
       "      <th>2</th>\n",
       "      <td>28</td>\n",
       "      <td>male</td>\n",
       "      <td>33.000</td>\n",
       "      <td>3</td>\n",
       "      <td>no</td>\n",
       "      <td>southeast</td>\n",
       "      <td>4449.46200</td>\n",
       "    </tr>\n",
       "    <tr>\n",
       "      <th>3</th>\n",
       "      <td>33</td>\n",
       "      <td>male</td>\n",
       "      <td>22.705</td>\n",
       "      <td>0</td>\n",
       "      <td>no</td>\n",
       "      <td>northwest</td>\n",
       "      <td>21984.47061</td>\n",
       "    </tr>\n",
       "    <tr>\n",
       "      <th>4</th>\n",
       "      <td>32</td>\n",
       "      <td>male</td>\n",
       "      <td>28.880</td>\n",
       "      <td>0</td>\n",
       "      <td>no</td>\n",
       "      <td>northwest</td>\n",
       "      <td>3866.85520</td>\n",
       "    </tr>\n",
       "  </tbody>\n",
       "</table>\n",
       "</div>"
      ],
      "text/plain": [
       "   age     sex     bmi  children smoker     region      charges\n",
       "0   19  female  27.900         0    yes  southwest  16884.92400\n",
       "1   18    male  33.770         1     no  southeast   1725.55230\n",
       "2   28    male  33.000         3     no  southeast   4449.46200\n",
       "3   33    male  22.705         0     no  northwest  21984.47061\n",
       "4   32    male  28.880         0     no  northwest   3866.85520"
      ]
     },
     "execution_count": 4,
     "metadata": {},
     "output_type": "execute_result"
    }
   ],
   "source": [
    "# Inspect the first few rows\n",
    "df.head()"
   ]
  },
  {
   "cell_type": "code",
   "execution_count": 5,
   "id": "e882f4fc",
   "metadata": {
    "execution": {
     "iopub.execute_input": "2025-01-31T10:42:21.117444Z",
     "iopub.status.busy": "2025-01-31T10:42:21.117025Z",
     "iopub.status.idle": "2025-01-31T10:42:21.162417Z",
     "shell.execute_reply": "2025-01-31T10:42:21.161169Z"
    },
    "papermill": {
     "duration": 0.05467,
     "end_time": "2025-01-31T10:42:21.164320",
     "exception": false,
     "start_time": "2025-01-31T10:42:21.109650",
     "status": "completed"
    },
    "tags": []
   },
   "outputs": [
    {
     "name": "stdout",
     "output_type": "stream",
     "text": [
      "age         0\n",
      "sex         0\n",
      "bmi         0\n",
      "children    0\n",
      "smoker      0\n",
      "region      0\n",
      "charges     0\n",
      "dtype: int64\n",
      "               age          bmi     children       charges\n",
      "count  1338.000000  1338.000000  1338.000000   1338.000000\n",
      "mean     39.207025    30.663397     1.094918  13270.422265\n",
      "std      14.049960     6.098187     1.205493  12110.011237\n",
      "min      18.000000    15.960000     0.000000   1121.873900\n",
      "25%      27.000000    26.296250     0.000000   4740.287150\n",
      "50%      39.000000    30.400000     1.000000   9382.033000\n",
      "75%      51.000000    34.693750     2.000000  16639.912515\n",
      "max      64.000000    53.130000     5.000000  63770.428010\n",
      "<class 'pandas.core.frame.DataFrame'>\n",
      "RangeIndex: 1338 entries, 0 to 1337\n",
      "Data columns (total 7 columns):\n",
      " #   Column    Non-Null Count  Dtype  \n",
      "---  ------    --------------  -----  \n",
      " 0   age       1338 non-null   int64  \n",
      " 1   sex       1338 non-null   object \n",
      " 2   bmi       1338 non-null   float64\n",
      " 3   children  1338 non-null   int64  \n",
      " 4   smoker    1338 non-null   object \n",
      " 5   region    1338 non-null   object \n",
      " 6   charges   1338 non-null   float64\n",
      "dtypes: float64(2), int64(2), object(3)\n",
      "memory usage: 73.3+ KB\n",
      "None\n"
     ]
    }
   ],
   "source": [
    "# Check for missing values\n",
    "print(df.isnull().sum())\n",
    "\n",
    "# Get basic statistics\n",
    "print(df.describe())\n",
    "\n",
    "# Get info of data\n",
    "print(df.info())"
   ]
  },
  {
   "cell_type": "markdown",
   "id": "070ee694",
   "metadata": {
    "papermill": {
     "duration": 0.006343,
     "end_time": "2025-01-31T10:42:21.177420",
     "exception": false,
     "start_time": "2025-01-31T10:42:21.171077",
     "status": "completed"
    },
    "tags": []
   },
   "source": [
    "## 3. Exploratory Data Analysis"
   ]
  },
  {
   "cell_type": "markdown",
   "id": "22e627e8",
   "metadata": {
    "papermill": {
     "duration": 0.006403,
     "end_time": "2025-01-31T10:42:21.190295",
     "exception": false,
     "start_time": "2025-01-31T10:42:21.183892",
     "status": "completed"
    },
    "tags": []
   },
   "source": [
    "### 3.1: Distribution of Target Variable (charges)"
   ]
  },
  {
   "cell_type": "code",
   "execution_count": 6,
   "id": "8a9e0240",
   "metadata": {
    "execution": {
     "iopub.execute_input": "2025-01-31T10:42:21.204868Z",
     "iopub.status.busy": "2025-01-31T10:42:21.204519Z",
     "iopub.status.idle": "2025-01-31T10:42:21.630735Z",
     "shell.execute_reply": "2025-01-31T10:42:21.629064Z"
    },
    "papermill": {
     "duration": 0.436151,
     "end_time": "2025-01-31T10:42:21.633062",
     "exception": false,
     "start_time": "2025-01-31T10:42:21.196911",
     "status": "completed"
    },
    "tags": []
   },
   "outputs": [
    {
     "name": "stderr",
     "output_type": "stream",
     "text": [
      "/usr/local/lib/python3.10/dist-packages/seaborn/_oldcore.py:1119: FutureWarning: use_inf_as_na option is deprecated and will be removed in a future version. Convert inf values to NaN before operating instead.\n",
      "  with pd.option_context('mode.use_inf_as_na', True):\n"
     ]
    },
    {
     "data": {
      "image/png": "[encoded data removed]",
      "text/plain": [
       "<Figure size 640x480 with 1 Axes>"
      ]
     },
     "metadata": {},
     "output_type": "display_data"
    }
   ],
   "source": [
    "sns.histplot(df['charges'], kde=True)\n",
    "plt.title('Distribution of Insurance Charges')\n",
    "plt.show()"
   ]
  },
  {
   "cell_type": "markdown",
   "id": "7d280607",
   "metadata": {
    "papermill": {
     "duration": 0.007068,
     "end_time": "2025-01-31T10:42:21.647783",
     "exception": false,
     "start_time": "2025-01-31T10:42:21.640715",
     "status": "completed"
    },
    "tags": []
   },
   "source": [
    "The target variable (charges) is right-skewed. This suggests that a log transformation might help normalize the distribution, which can improve model performance."
   ]
  },
  {
   "cell_type": "markdown",
   "id": "53da330a",
   "metadata": {
    "papermill": {
     "duration": 0.00716,
     "end_time": "2025-01-31T10:42:21.662453",
     "exception": false,
     "start_time": "2025-01-31T10:42:21.655293",
     "status": "completed"
    },
    "tags": []
   },
   "source": [
    "### 3.2: Correlation Between Numerical Features"
   ]
  },
  {
   "cell_type": "code",
   "execution_count": 7,
   "id": "490ef0af",
   "metadata": {
    "execution": {
     "iopub.execute_input": "2025-01-31T10:42:21.678413Z",
     "iopub.status.busy": "2025-01-31T10:42:21.677994Z",
     "iopub.status.idle": "2025-01-31T10:42:22.039747Z",
     "shell.execute_reply": "2025-01-31T10:42:22.038361Z"
    },
    "papermill": {
     "duration": 0.37201,
     "end_time": "2025-01-31T10:42:22.041751",
     "exception": false,
     "start_time": "2025-01-31T10:42:21.669741",
     "status": "completed"
    },
    "tags": []
   },
   "outputs": [
    {
     "data": {
      "image/png": "[encoded data removed]",
      "text/plain": [
       "<Figure size 640x480 with 2 Axes>"
      ]
     },
     "metadata": {},
     "output_type": "display_data"
    }
   ],
   "source": [
    "# Select only numerical columns\n",
    "numerical_columns = df.select_dtypes(include=['int64', 'float64'])\n",
    "\n",
    "# Compute correlation matrix\n",
    "corr_matrix = numerical_columns.corr()\n",
    "\n",
    "# Plot the heatmap\n",
    "sns.heatmap(corr_matrix, annot=True, cmap='coolwarm')\n",
    "plt.title('Correlation Matrix')\n",
    "plt.show()"
   ]
  },
  {
   "cell_type": "markdown",
   "id": "522c186f",
   "metadata": {
    "papermill": {
     "duration": 0.008361,
     "end_time": "2025-01-31T10:42:22.058873",
     "exception": false,
     "start_time": "2025-01-31T10:42:22.050512",
     "status": "completed"
    },
    "tags": []
   },
   "source": [
    "We use Pearson correlation because it measures the linear relationship between two continuous variables. It’s appropriate here since age, bmi, and children are numerical features. A correlation close to 1 or -1 indicates a strong relationship, while 0 indicates no relationship.\n",
    "\n",
    "Age and Charge are a moderate positive correlation. It suggests that as age increases, insurance charges tend to increase."
   ]
  },
  {
   "cell_type": "markdown",
   "id": "214cbb75",
   "metadata": {
    "papermill": {
     "duration": 0.007974,
     "end_time": "2025-01-31T10:42:22.075037",
     "exception": false,
     "start_time": "2025-01-31T10:42:22.067063",
     "status": "completed"
    },
    "tags": []
   },
   "source": [
    "### 3.3 Categorical Feature Analysis"
   ]
  },
  {
   "cell_type": "code",
   "execution_count": 8,
   "id": "9ea7ee27",
   "metadata": {
    "execution": {
     "iopub.execute_input": "2025-01-31T10:42:22.093309Z",
     "iopub.status.busy": "2025-01-31T10:42:22.092801Z",
     "iopub.status.idle": "2025-01-31T10:42:22.274258Z",
     "shell.execute_reply": "2025-01-31T10:42:22.272839Z"
    },
    "papermill": {
     "duration": 0.193216,
     "end_time": "2025-01-31T10:42:22.276305",
     "exception": false,
     "start_time": "2025-01-31T10:42:22.083089",
     "status": "completed"
    },
    "tags": []
   },
   "outputs": [
    {
     "data": {
      "image/png": "[encoded data removed]",
      "text/plain": [
       "<Figure size 640x480 with 1 Axes>"
      ]
     },
     "metadata": {},
     "output_type": "display_data"
    }
   ],
   "source": [
    "sns.boxplot(x='smoker', y='charges', data=df)\n",
    "plt.title('Insurance Charges by Smoking Status')\n",
    "plt.show()"
   ]
  },
  {
   "cell_type": "markdown",
   "id": "0c6a34cc",
   "metadata": {
    "papermill": {
     "duration": 0.008179,
     "end_time": "2025-01-31T10:42:22.293431",
     "exception": false,
     "start_time": "2025-01-31T10:42:22.285252",
     "status": "completed"
    },
    "tags": []
   },
   "source": [
    "Smokers tend to have higher insurance charges. This suggests that the smoker feature will be important in our model."
   ]
  },
  {
   "cell_type": "markdown",
   "id": "d0b856c7",
   "metadata": {
    "papermill": {
     "duration": 0.008399,
     "end_time": "2025-01-31T10:42:22.310249",
     "exception": false,
     "start_time": "2025-01-31T10:42:22.301850",
     "status": "completed"
    },
    "tags": []
   },
   "source": [
    "## 4. Data Preprocessing"
   ]
  },
  {
   "cell_type": "markdown",
   "id": "9d3c25ff",
   "metadata": {
    "papermill": {
     "duration": 0.008102,
     "end_time": "2025-01-31T10:42:22.326754",
     "exception": false,
     "start_time": "2025-01-31T10:42:22.318652",
     "status": "completed"
    },
    "tags": []
   },
   "source": [
    "### 4.1: Log Transformation of Target Variable"
   ]
  },
  {
   "cell_type": "code",
   "execution_count": 9,
   "id": "cfb60f41",
   "metadata": {
    "execution": {
     "iopub.execute_input": "2025-01-31T10:42:22.345546Z",
     "iopub.status.busy": "2025-01-31T10:42:22.345199Z",
     "iopub.status.idle": "2025-01-31T10:42:22.352632Z",
     "shell.execute_reply": "2025-01-31T10:42:22.351585Z"
    },
    "papermill": {
     "duration": 0.019353,
     "end_time": "2025-01-31T10:42:22.354599",
     "exception": false,
     "start_time": "2025-01-31T10:42:22.335246",
     "status": "completed"
    },
    "tags": []
   },
   "outputs": [],
   "source": [
    "# Apply log transformation to the target variable\n",
    "df['log_charges'] = np.log1p(df['charges'])"
   ]
  },
  {
   "cell_type": "markdown",
   "id": "f855840a",
   "metadata": {
    "papermill": {
     "duration": 0.009095,
     "end_time": "2025-01-31T10:42:22.372336",
     "exception": false,
     "start_time": "2025-01-31T10:42:22.363241",
     "status": "completed"
    },
    "tags": []
   },
   "source": [
    "The log transformation is applied to address the right skewness of the target variable (charges). This transformation helps normalize the distribution, making it more suitable for regression models."
   ]
  },
  {
   "cell_type": "markdown",
   "id": "588f234a",
   "metadata": {
    "papermill": {
     "duration": 0.009091,
     "end_time": "2025-01-31T10:42:22.389920",
     "exception": false,
     "start_time": "2025-01-31T10:42:22.380829",
     "status": "completed"
    },
    "tags": []
   },
   "source": [
    "### 4.2 Pipelining"
   ]
  },
  {
   "cell_type": "code",
   "execution_count": 10,
   "id": "5d7a4edc",
   "metadata": {
    "execution": {
     "iopub.execute_input": "2025-01-31T10:42:22.408760Z",
     "iopub.status.busy": "2025-01-31T10:42:22.408353Z",
     "iopub.status.idle": "2025-01-31T10:42:22.414194Z",
     "shell.execute_reply": "2025-01-31T10:42:22.412805Z"
    },
    "papermill": {
     "duration": 0.017825,
     "end_time": "2025-01-31T10:42:22.416399",
     "exception": false,
     "start_time": "2025-01-31T10:42:22.398574",
     "status": "completed"
    },
    "tags": []
   },
   "outputs": [],
   "source": [
    "# Define numerical and categorical features\n",
    "numerical_features = ['age', 'bmi', 'children']\n",
    "categorical_features = ['sex', 'smoker', 'region']\n",
    "\n",
    "# Create a preprocessing pipeline\n",
    "preprocessor = ColumnTransformer(\n",
    "    transformers=[\n",
    "        ('num', Pipeline(steps=[\n",
    "            ('scaler', StandardScaler())  # Scale numerical features\n",
    "        ]), numerical_features),\n",
    "        ('cat', Pipeline(steps=[\n",
    "            ('onehot', OneHotEncoder(drop='first'))  # One-hot encode categorical features\n",
    "        ]), categorical_features)\n",
    "    ])"
   ]
  },
  {
   "cell_type": "markdown",
   "id": "fa6e507b",
   "metadata": {
    "papermill": {
     "duration": 0.008354,
     "end_time": "2025-01-31T10:42:22.433364",
     "exception": false,
     "start_time": "2025-01-31T10:42:22.425010",
     "status": "completed"
    },
    "tags": []
   },
   "source": [
    "- Numerical Features: We use StandardScaler to standardize age, bmi, and children so that they have a mean of 0 and a standard deviation of 1. This ensures that all features contribute equally to the model.\n",
    "- Categorical Features: We use OneHotEncoder to convert categorical variables (sex, smoker, region) into binary columns. The drop='first' parameter avoids multicollinearity by dropping the first category."
   ]
  },
  {
   "cell_type": "markdown",
   "id": "19a7a5ff",
   "metadata": {
    "papermill": {
     "duration": 0.008769,
     "end_time": "2025-01-31T10:42:22.450707",
     "exception": false,
     "start_time": "2025-01-31T10:42:22.441938",
     "status": "completed"
    },
    "tags": []
   },
   "source": [
    "### 4.3 Split Data "
   ]
  },
  {
   "cell_type": "code",
   "execution_count": 11,
   "id": "319d2b56",
   "metadata": {
    "execution": {
     "iopub.execute_input": "2025-01-31T10:42:22.475258Z",
     "iopub.status.busy": "2025-01-31T10:42:22.474783Z",
     "iopub.status.idle": "2025-01-31T10:42:22.483375Z",
     "shell.execute_reply": "2025-01-31T10:42:22.482116Z"
    },
    "papermill": {
     "duration": 0.025138,
     "end_time": "2025-01-31T10:42:22.485433",
     "exception": false,
     "start_time": "2025-01-31T10:42:22.460295",
     "status": "completed"
    },
    "tags": []
   },
   "outputs": [],
   "source": [
    "X = df.drop(['charges', 'log_charges'], axis=1)  # Features\n",
    "y = df['log_charges']  # Target (log-transformed charges)"
   ]
  },
  {
   "cell_type": "code",
   "execution_count": 12,
   "id": "77879023",
   "metadata": {
    "execution": {
     "iopub.execute_input": "2025-01-31T10:42:22.509734Z",
     "iopub.status.busy": "2025-01-31T10:42:22.509394Z",
     "iopub.status.idle": "2025-01-31T10:42:22.518210Z",
     "shell.execute_reply": "2025-01-31T10:42:22.516433Z"
    },
    "papermill": {
     "duration": 0.024131,
     "end_time": "2025-01-31T10:42:22.520589",
     "exception": false,
     "start_time": "2025-01-31T10:42:22.496458",
     "status": "completed"
    },
    "tags": []
   },
   "outputs": [],
   "source": [
    "X_train, X_test, y_train, y_test = train_test_split(X, y, test_size=0.2, random_state=42)"
   ]
  },
  {
   "cell_type": "markdown",
   "id": "61e99d6d",
   "metadata": {
    "papermill": {
     "duration": 0.008444,
     "end_time": "2025-01-31T10:42:22.539307",
     "exception": false,
     "start_time": "2025-01-31T10:42:22.530863",
     "status": "completed"
    },
    "tags": []
   },
   "source": [
    "## 5. Modeling"
   ]
  },
  {
   "cell_type": "markdown",
   "id": "8d7bacf5",
   "metadata": {
    "papermill": {
     "duration": 0.008413,
     "end_time": "2025-01-31T10:42:22.556506",
     "exception": false,
     "start_time": "2025-01-31T10:42:22.548093",
     "status": "completed"
    },
    "tags": []
   },
   "source": [
    "### 5.1 Linear Regression\n",
    "Linear regression is a simple and interpretable model. It assumes a linear relationship between features and the target, making it a good baseline."
   ]
  },
  {
   "cell_type": "code",
   "execution_count": 13,
   "id": "c83a27d6",
   "metadata": {
    "execution": {
     "iopub.execute_input": "2025-01-31T10:42:22.575798Z",
     "iopub.status.busy": "2025-01-31T10:42:22.575378Z",
     "iopub.status.idle": "2025-01-31T10:42:22.642303Z",
     "shell.execute_reply": "2025-01-31T10:42:22.640266Z"
    },
    "papermill": {
     "duration": 0.082072,
     "end_time": "2025-01-31T10:42:22.647249",
     "exception": false,
     "start_time": "2025-01-31T10:42:22.565177",
     "status": "completed"
    },
    "tags": []
   },
   "outputs": [
    {
     "name": "stdout",
     "output_type": "stream",
     "text": [
      "Linear Regression - MSE: 0.17550910855320762, R2: 0.8047410791393019\n"
     ]
    }
   ],
   "source": [
    "# Create a pipeline with preprocessing and linear regression\n",
    "linear_pipeline = Pipeline(steps=[\n",
    "    ('preprocessor', preprocessor),\n",
    "    ('regressor', LinearRegression())\n",
    "])\n",
    "\n",
    "# Fit the model\n",
    "linear_pipeline.fit(X_train, y_train)\n",
    "\n",
    "# Predict on test data\n",
    "y_pred = linear_pipeline.predict(X_test)\n",
    "\n",
    "# Evaluate performance\n",
    "mse = mean_squared_error(y_test, y_pred)\n",
    "r2 = r2_score(y_test, y_pred)\n",
    "print(f'Linear Regression - MSE: {mse}, R2: {r2}')"
   ]
  },
  {
   "cell_type": "markdown",
   "id": "35f81acc",
   "metadata": {
    "papermill": {
     "duration": 0.01217,
     "end_time": "2025-01-31T10:42:22.669011",
     "exception": false,
     "start_time": "2025-01-31T10:42:22.656841",
     "status": "completed"
    },
    "tags": []
   },
   "source": [
    "### 5.2 Randomforest Regression\n",
    "Random forests can capture non-linear relationships and interactions between features, often outperforming linear models. They are robust to overfitting and work well with mixed data types."
   ]
  },
  {
   "cell_type": "code",
   "execution_count": 14,
   "id": "bbdd034a",
   "metadata": {
    "execution": {
     "iopub.execute_input": "2025-01-31T10:42:22.690799Z",
     "iopub.status.busy": "2025-01-31T10:42:22.690407Z",
     "iopub.status.idle": "2025-01-31T10:42:23.103032Z",
     "shell.execute_reply": "2025-01-31T10:42:23.101961Z"
    },
    "papermill": {
     "duration": 0.424832,
     "end_time": "2025-01-31T10:42:23.105014",
     "exception": false,
     "start_time": "2025-01-31T10:42:22.680182",
     "status": "completed"
    },
    "tags": []
   },
   "outputs": [
    {
     "name": "stdout",
     "output_type": "stream",
     "text": [
      "Random Forest - MSE: 0.136409347032557, R2: 0.8482406861019707\n"
     ]
    }
   ],
   "source": [
    "# Create a pipeline with preprocessing and random forest regression\n",
    "rf_pipeline = Pipeline(steps=[\n",
    "    ('preprocessor', preprocessor),\n",
    "    ('regressor', RandomForestRegressor(random_state=42))\n",
    "])\n",
    "\n",
    "# Fit the model\n",
    "rf_pipeline.fit(X_train, y_train)\n",
    "\n",
    "# Predict on test data\n",
    "y_pred_rf = rf_pipeline.predict(X_test)\n",
    "\n",
    "# Evaluate performance\n",
    "mse_rf = mean_squared_error(y_test, y_pred_rf)\n",
    "r2_rf = r2_score(y_test, y_pred_rf)\n",
    "print(f'Random Forest - MSE: {mse_rf}, R2: {r2_rf}')"
   ]
  },
  {
   "cell_type": "code",
   "execution_count": 15,
   "id": "ad700505",
   "metadata": {
    "execution": {
     "iopub.execute_input": "2025-01-31T10:42:23.127947Z",
     "iopub.status.busy": "2025-01-31T10:42:23.127573Z",
     "iopub.status.idle": "2025-01-31T10:42:23.133577Z",
     "shell.execute_reply": "2025-01-31T10:42:23.132150Z"
    },
    "papermill": {
     "duration": 0.021832,
     "end_time": "2025-01-31T10:42:23.135866",
     "exception": false,
     "start_time": "2025-01-31T10:42:23.114034",
     "status": "completed"
    },
    "tags": []
   },
   "outputs": [
    {
     "name": "stdout",
     "output_type": "stream",
     "text": [
      "Linear Regression - MSE: 0.17550910855320762, R2: 0.8047410791393019\n",
      "Random Forest - MSE: 0.136409347032557, R2: 0.8482406861019707\n"
     ]
    }
   ],
   "source": [
    "print(f'Linear Regression - MSE: {mse}, R2: {r2}')\n",
    "print(f'Random Forest - MSE: {mse_rf}, R2: {r2_rf}')"
   ]
  },
  {
   "cell_type": "markdown",
   "id": "faf3951a",
   "metadata": {
    "papermill": {
     "duration": 0.009311,
     "end_time": "2025-01-31T10:42:23.160701",
     "exception": false,
     "start_time": "2025-01-31T10:42:23.151390",
     "status": "completed"
    },
    "tags": []
   },
   "source": [
    "We compare the models using:\n",
    "\n",
    "- Mean Squared Error (MSE): Measures the average squared difference between predicted and actual values. Lower MSE indicates better performance.\n",
    "- R-squared (R2): Represents the proportion of variance in the target variable explained by the model. Higher R2 indicates better performance."
   ]
  },
  {
   "cell_type": "markdown",
   "id": "7a631d14",
   "metadata": {
    "papermill": {
     "duration": 0.008442,
     "end_time": "2025-01-31T10:42:23.179802",
     "exception": false,
     "start_time": "2025-01-31T10:42:23.171360",
     "status": "completed"
    },
    "tags": []
   },
   "source": [
    "**The Random Forest** model has a **lower MSE (0.13)** and **a higher R2 (0.84)**, indicating better performance compared to Linear Regression."
   ]
  },
  {
   "cell_type": "code",
   "execution_count": null,
   "id": "13e209f8",
   "metadata": {
    "papermill": {
     "duration": 0.008695,
     "end_time": "2025-01-31T10:42:23.197412",
     "exception": false,
     "start_time": "2025-01-31T10:42:23.188717",
     "status": "completed"
    },
    "tags": []
   },
   "outputs": [],
   "source": []
  }
 ],
 "metadata": {
  "kaggle": {
   "accelerator": "none",
   "dataSources": [
    {
     "datasetId": 3852935,
     "sourceId": 6678394,
     "sourceType": "datasetVersion"
    }
   ],
   "dockerImageVersionId": 30839,
   "isGpuEnabled": false,
   "isInternetEnabled": true,
   "language": "python",
   "sourceType": "notebook"
  },
  "kernelspec": {
   "display_name": "Python 3",
   "language": "python",
   "name": "python3"
  },
  "language_info": {
   "codemirror_mode": {
    "name": "ipython",
    "version": 3
   },
   "file_extension": ".py",
   "mimetype": "text/x-python",
   "name": "python",
   "nbconvert_exporter": "python",
   "pygments_lexer": "ipython3",
   "version": "3.10.12"
  },
  "papermill": {
   "default_parameters": {},
   "duration": 9.825539,
   "end_time": "2025-01-31T10:42:24.027628",
   "environment_variables": {},
   "exception": null,
   "input_path": "__notebook__.ipynb",
   "output_path": "__notebook__.ipynb",
   "parameters": {},
   "start_time": "2025-01-31T10:42:14.202089",
   "version": "2.6.0"
  }
 },
 "nbformat": 4,
 "nbformat_minor": 5
}
